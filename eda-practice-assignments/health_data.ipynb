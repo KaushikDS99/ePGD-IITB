{
 "cells": [
  {
   "cell_type": "code",
   "execution_count": 2,
   "id": "9ec2809d",
   "metadata": {},
   "outputs": [],
   "source": [
    "###importing necessary packages and libraries\n",
    "import numpy as np\n",
    "import pandas as pd\n",
    "import matplotlib.pyplot as plt\n",
    "import seaborn as sns\n",
    "import statsmodels.api as sm\n",
    "%matplotlib inline"
   ]
  },
  {
   "cell_type": "code",
   "execution_count": 3,
   "id": "0e191b5f",
   "metadata": {},
   "outputs": [],
   "source": [
    "###Reading the health_data dataset into a pandas dataframe\n",
    "\n",
    "health_df = pd.read_csv('health_data.csv')"
   ]
  },
  {
   "cell_type": "code",
   "execution_count": 6,
   "id": "ee464276",
   "metadata": {},
   "outputs": [
    {
     "data": {
      "text/html": [
       "<div>\n",
       "<style scoped>\n",
       "    .dataframe tbody tr th:only-of-type {\n",
       "        vertical-align: middle;\n",
       "    }\n",
       "\n",
       "    .dataframe tbody tr th {\n",
       "        vertical-align: top;\n",
       "    }\n",
       "\n",
       "    .dataframe thead th {\n",
       "        text-align: right;\n",
       "    }\n",
       "</style>\n",
       "<table border=\"1\" class=\"dataframe\">\n",
       "  <thead>\n",
       "    <tr style=\"text-align: right;\">\n",
       "      <th></th>\n",
       "      <th>_f8</th>\n",
       "      <th>_f1</th>\n",
       "      <th>_f2</th>\n",
       "      <th>_f3</th>\n",
       "      <th>_f4</th>\n",
       "      <th>_f5</th>\n",
       "      <th>_f6</th>\n",
       "      <th>_f7</th>\n",
       "      <th>is_diabetic</th>\n",
       "    </tr>\n",
       "  </thead>\n",
       "  <tbody>\n",
       "    <tr>\n",
       "      <th>0</th>\n",
       "      <td>6</td>\n",
       "      <td>148.0</td>\n",
       "      <td>72.0</td>\n",
       "      <td>35.0</td>\n",
       "      <td>0.0</td>\n",
       "      <td>33.6</td>\n",
       "      <td>0.627</td>\n",
       "      <td>50</td>\n",
       "      <td>1</td>\n",
       "    </tr>\n",
       "    <tr>\n",
       "      <th>1</th>\n",
       "      <td>1</td>\n",
       "      <td>85.0</td>\n",
       "      <td>66.0</td>\n",
       "      <td>29.0</td>\n",
       "      <td>0.0</td>\n",
       "      <td>26.6</td>\n",
       "      <td>0.351</td>\n",
       "      <td>31</td>\n",
       "      <td>0</td>\n",
       "    </tr>\n",
       "    <tr>\n",
       "      <th>2</th>\n",
       "      <td>8</td>\n",
       "      <td>183.0</td>\n",
       "      <td>64.0</td>\n",
       "      <td>0.0</td>\n",
       "      <td>0.0</td>\n",
       "      <td>23.3</td>\n",
       "      <td>0.672</td>\n",
       "      <td>32</td>\n",
       "      <td>1</td>\n",
       "    </tr>\n",
       "    <tr>\n",
       "      <th>3</th>\n",
       "      <td>1</td>\n",
       "      <td>89.0</td>\n",
       "      <td>66.0</td>\n",
       "      <td>23.0</td>\n",
       "      <td>94.0</td>\n",
       "      <td>28.1</td>\n",
       "      <td>0.167</td>\n",
       "      <td>21</td>\n",
       "      <td>0</td>\n",
       "    </tr>\n",
       "    <tr>\n",
       "      <th>4</th>\n",
       "      <td>0</td>\n",
       "      <td>137.0</td>\n",
       "      <td>40.0</td>\n",
       "      <td>35.0</td>\n",
       "      <td>168.0</td>\n",
       "      <td>43.1</td>\n",
       "      <td>2.288</td>\n",
       "      <td>33</td>\n",
       "      <td>1</td>\n",
       "    </tr>\n",
       "  </tbody>\n",
       "</table>\n",
       "</div>"
      ],
      "text/plain": [
       "   _f8    _f1   _f2   _f3    _f4   _f5    _f6  _f7  is_diabetic\n",
       "0    6  148.0  72.0  35.0    0.0  33.6  0.627   50            1\n",
       "1    1   85.0  66.0  29.0    0.0  26.6  0.351   31            0\n",
       "2    8  183.0  64.0   0.0    0.0  23.3  0.672   32            1\n",
       "3    1   89.0  66.0  23.0   94.0  28.1  0.167   21            0\n",
       "4    0  137.0  40.0  35.0  168.0  43.1  2.288   33            1"
      ]
     },
     "execution_count": 6,
     "metadata": {},
     "output_type": "execute_result"
    }
   ],
   "source": [
    "##Basic overlook on the dataset\n",
    "health_df.head()\n"
   ]
  },
  {
   "cell_type": "code",
   "execution_count": 7,
   "id": "cfc5b647",
   "metadata": {},
   "outputs": [
    {
     "name": "stdout",
     "output_type": "stream",
     "text": [
      "The dataset shape is: (741, 9)\n"
     ]
    }
   ],
   "source": [
    "print(\"The dataset shape is:\", health_df.shape)"
   ]
  },
  {
   "cell_type": "code",
   "execution_count": 9,
   "id": "68817483",
   "metadata": {},
   "outputs": [
    {
     "name": "stdout",
     "output_type": "stream",
     "text": [
      "The columns in the dataset are: Index(['_f8', '_f1', '_f2', '_f3', '_f4', '_f5', '_f6', '_f7', 'is_diabetic'], dtype='object')\n"
     ]
    }
   ],
   "source": [
    "###Checking the columns and their datatypes\n",
    "print(\"The columns in the dataset are:\", health_df.columns)\n"
   ]
  },
  {
   "cell_type": "code",
   "execution_count": 11,
   "id": "2e08552e",
   "metadata": {},
   "outputs": [
    {
     "name": "stdout",
     "output_type": "stream",
     "text": [
      "The datatypes of the columns are:\n",
      " _f8              int64\n",
      "_f1            float64\n",
      "_f2            float64\n",
      "_f3            float64\n",
      "_f4            float64\n",
      "_f5            float64\n",
      "_f6            float64\n",
      "_f7              int64\n",
      "is_diabetic      int64\n",
      "dtype: object\n"
     ]
    }
   ],
   "source": [
    "print(\"The datatypes of the columns are:\\n\", health_df.dtypes)"
   ]
  },
  {
   "cell_type": "code",
   "execution_count": 12,
   "id": "7c7748e3",
   "metadata": {},
   "outputs": [
    {
     "name": "stdout",
     "output_type": "stream",
     "text": [
      "The number of missing values in each column is:\n",
      " _f8             0\n",
      "_f1            37\n",
      "_f2            37\n",
      "_f3            37\n",
      "_f4            37\n",
      "_f5            37\n",
      "_f6             0\n",
      "_f7             0\n",
      "is_diabetic     0\n",
      "dtype: int64\n"
     ]
    }
   ],
   "source": [
    "##The question asks to find problems in the dataset.\n",
    "\n",
    "##Step 1: Checking for missing values\n",
    "\n",
    "print(\"The number of missing values in each column is:\\n\", health_df.isnull().sum())"
   ]
  },
  {
   "cell_type": "code",
   "execution_count": 27,
   "id": "1b5394e8",
   "metadata": {},
   "outputs": [
    {
     "name": "stdout",
     "output_type": "stream",
     "text": [
      "The number of rows with missing values is: 37\n",
      "The percent of missing values in each column is: 4.993252361673414 %\n"
     ]
    }
   ],
   "source": [
    "### Number of rows with missing values\n",
    "print(\"The number of rows with missing values is:\", health_df.isnull().any(axis=1).sum())\n",
    "\n",
    "###Checking percent of rows with missing values\n",
    "missing_rows_percent = health_df.isnull().any(axis=1).sum() / len(health_df) * 100\n",
    "print(\"The percent of missing values in each column is:\", missing_rows_percent,\"%\")"
   ]
  },
  {
   "cell_type": "code",
   "execution_count": 30,
   "id": "1d88f7e6",
   "metadata": {},
   "outputs": [
    {
     "name": "stdout",
     "output_type": "stream",
     "text": [
      "The number of missing rows with target variable as 1 is: 14\n",
      "The number of missing rows with target variable as 0 is: 23\n"
     ]
    }
   ],
   "source": [
    "###Checking how many of the missing rows had is_diabetic as 1 and is_diabetic as 0\n",
    "missing_rows = health_df[health_df.isnull().any(axis=1)]\n",
    "print(\"The number of missing rows with target variable as 1 is:\", missing_rows[missing_rows['is_diabetic'] == 1].shape[0])\n",
    "print(\"The number of missing rows with target variable as 0 is:\", missing_rows[missing_rows['is_diabetic'] == 0].shape[0])"
   ]
  },
  {
   "cell_type": "markdown",
   "id": "466c6d42",
   "metadata": {},
   "source": [
    "#### Here, we see that there are missing values for 5 of the independent features. There are no missing values in the target variable. Moreover, the missing values seem to be more or less random without following any class bias (missing from a particular class). We need to check the class imbalance here later."
   ]
  },
  {
   "cell_type": "code",
   "execution_count": 13,
   "id": "2a3aba69",
   "metadata": {},
   "outputs": [
    {
     "name": "stdout",
     "output_type": "stream",
     "text": [
      "The number of duplicate rows in the dataset is: 0\n"
     ]
    }
   ],
   "source": [
    "##Step 2: Checking for duplicates\n",
    "print(\"The number of duplicate rows in the dataset is:\", health_df.duplicated().sum())"
   ]
  },
  {
   "cell_type": "markdown",
   "id": "4ddbd21f",
   "metadata": {},
   "source": [
    "#### There are NO duplicated rows in the dataset (dataset with target variable)"
   ]
  },
  {
   "cell_type": "code",
   "execution_count": 22,
   "id": "8d3d1d79",
   "metadata": {},
   "outputs": [
    {
     "name": "stdout",
     "output_type": "stream",
     "text": [
      "The number of rows with ambiguos targets: 0\n"
     ]
    }
   ],
   "source": [
    "###Checking if the rows without target variable are duplicates: This will mean that the target variable is ambiguos for such rows\n",
    "print(\"The number of rows with ambiguos targets:\", health_df.iloc[:,:-1].duplicated().sum())"
   ]
  },
  {
   "cell_type": "markdown",
   "id": "08f70087",
   "metadata": {},
   "source": [
    "#### Hence, we can conclude that there are no duplicated rows and no ambiguous (non useful) rows"
   ]
  },
  {
   "cell_type": "code",
   "execution_count": 32,
   "id": "36cf4b2c",
   "metadata": {},
   "outputs": [
    {
     "name": "stdout",
     "output_type": "stream",
     "text": [
      "The value counts for the target variable are:\n",
      " is_diabetic\n",
      "0    481\n",
      "1    260\n",
      "Name: count, dtype: int64\n"
     ]
    },
    {
     "data": {
      "image/png": "[encoded data removed]",
      "text/plain": [
       "<Figure size 1000x600 with 1 Axes>"
      ]
     },
     "metadata": {},
     "output_type": "display_data"
    }
   ],
   "source": [
    "###Step 3: Checking for data imbalances, assuming that teh target variable is 'is_diabetic'\n",
    "print(\"The value counts for the target variable are:\\n\", health_df['is_diabetic'].value_counts())\n",
    "plt.figure(figsize=(10, 6))\n",
    "sns.countplot(x='is_diabetic', data=health_df, hue='is_diabetic', palette='Set2')\n",
    "plt.title('Count of Target Variable')\n",
    "plt.xlabel('is_diabetic')\n",
    "plt.ylabel('Count')\n",
    "plt.show()"
   ]
  },
  {
   "cell_type": "code",
   "execution_count": 34,
   "id": "820c3d5a",
   "metadata": {},
   "outputs": [
    {
     "name": "stdout",
     "output_type": "stream",
     "text": [
      "The missing value percent from class 1 is: 4.781704781704782\n",
      "The missing value percent from class 0 is: 5.384615384615385\n"
     ]
    }
   ],
   "source": [
    "##missing value percent from each class [raw calculations]\n",
    "missng_percent_1 = (23/481)*100\n",
    "missng_percent_0 = (14/260)*100\n",
    "print(\"The missing value percent from class 1 is:\", missng_percent_1)\n",
    "print(\"The missing value percent from class 0 is:\", missng_percent_0)"
   ]
  },
  {
   "cell_type": "markdown",
   "id": "69d33b76",
   "metadata": {},
   "source": [
    "#### From step 3, we see there is moderate imbalance in the data, although it is not extreme. Also, teh missing values from each classes are around 5%, which can be eliminated from the dataset."
   ]
  },
  {
   "cell_type": "code",
   "execution_count": 38,
   "id": "bc5ddc44",
   "metadata": {},
   "outputs": [
    {
     "data": {
      "image/png": "[encoded data removed]",
      "text/plain": [
       "<Figure size 1000x600 with 1 Axes>"
      ]
     },
     "metadata": {},
     "output_type": "display_data"
    }
   ],
   "source": [
    "###Step 4: Checking for outliers in the independent features. We will use boxplots for this.\n",
    "plt.figure(figsize=(10, 6))\n",
    "sns.boxplot(data=health_df.iloc[:,:-1], orient='v')\n",
    "plt.title('Boxplot of All Features')\n",
    "plt.xlabel('Independent features')\n",
    "plt.ylabel('Values')\n",
    "plt.show()"
   ]
  },
  {
   "cell_type": "markdown",
   "id": "19cfbd83",
   "metadata": {},
   "source": [
    "#### We see from the box plot that there are outliers in the features, especially in significant numbers for the feature _f4."
   ]
  },
  {
   "cell_type": "code",
   "execution_count": 42,
   "id": "e6359bcd",
   "metadata": {},
   "outputs": [
    {
     "name": "stdout",
     "output_type": "stream",
     "text": [
      "The percent of outliers in each feature is:\n",
      " {'_f8': 0.5398110661268556, '_f1': 5.398110661268556, '_f2': 9.176788124156547, '_f3': 0.0, '_f4': 4.048582995951417, '_f5': 6.747638326585695, '_f6': 3.7786774628879893, '_f7': 2.0242914979757085}\n"
     ]
    }
   ],
   "source": [
    "###Checking the percent of outliers in each feature\n",
    "outliers_percent = {}\n",
    "for col in health_df.columns[:-1]:\n",
    "    q1 = health_df[col].quantile(0.25)\n",
    "    q3 = health_df[col].quantile(0.75)\n",
    "    iqr = q3 - q1\n",
    "    lower_bound = q1 - 1.5 * iqr\n",
    "    upper_bound = q3 + 1.5 * iqr\n",
    "    outliers = health_df[(health_df[col] < lower_bound) | (health_df[col] > upper_bound)]\n",
    "    outliers_percent[col] = (len(outliers) / len(health_df)) * 100\n",
    "print(\"The percent of outliers in each feature is:\\n\", outliers_percent)"
   ]
  },
  {
   "cell_type": "markdown",
   "id": "36291542",
   "metadata": {},
   "source": [
    "## Brief overview of the data analysis( part a):\n",
    "### - There are missing values which are random and contribute to around 5% of the dataset size.\n",
    "### - There are no duplicated or non-useful rows that could be found.\n",
    "### - There are no rows containing data with inconsistent data type.\n",
    "### - There is a moderate class imbalance.\n",
    "### - There are outliers for a subset of features, but they are <10% of the data size. \n"
   ]
  },
  {
   "cell_type": "markdown",
   "id": "3f60ff6a",
   "metadata": {},
   "source": []
  },
  {
   "cell_type": "code",
   "execution_count": null,
   "id": "c317894e",
   "metadata": {},
   "outputs": [],
   "source": []
  },
  {
   "cell_type": "markdown",
   "id": "bb36d54f",
   "metadata": {},
   "source": [
    "### To rectify the problems identified, we can do the following steps:\n",
    "\n",
    "#### - Missing values: Eliminate the rows as this constitutes <5% of the total dataset size and the missing values are at random.\n",
    "#### - Class imbalance: We will use the SMOTE technique to create synthetic samples for the is_diabetic=1 class.\n",
    "#### - For handling outliers: Since, this is a medical domain dataset, it might not be viable to remove all outliers. Also, these outliers might be actual possible values. We will only remove rows which has extreme outliers (such cases will be less in number and taht should not impact our downstream tasks significantly). Also, using Decision Tree based models for classification would be better to handle outliers."
   ]
  },
  {
   "cell_type": "code",
   "execution_count": 43,
   "id": "fc9bc2f0",
   "metadata": {},
   "outputs": [
    {
     "name": "stdout",
     "output_type": "stream",
     "text": [
      "The number of rows after removing missing values is: 704\n"
     ]
    }
   ],
   "source": [
    "###Removing the missing values\n",
    "health_df = health_df.dropna()\n",
    "print(\"The number of rows after removing missing values is:\", health_df.shape[0])"
   ]
  },
  {
   "cell_type": "code",
   "execution_count": 61,
   "id": "5224c68a",
   "metadata": {},
   "outputs": [
    {
     "name": "stdout",
     "output_type": "stream",
     "text": [
      "The number of rows after removing outliers is: 683\n"
     ]
    }
   ],
   "source": [
    "###removing extreme outliers : IQR + 2*IQR and above\n",
    "\n",
    "\n",
    "def remove_outliers(df):\n",
    "    \"\"\"\n",
    "    Function to remove outliers from the dataframe based on IQR method.\"\"\"\n",
    "    for col in df.columns[:-1]:\n",
    "        q1 = df[col].quantile(0.25)\n",
    "        q3 = df[col].quantile(0.75)\n",
    "        iqr = q3 - q1\n",
    "        lower_bound = q1 - 3 * iqr\n",
    "        upper_bound = q3 + 3 * iqr\n",
    "        df = df[(df[col] >= lower_bound) & (df[col] <= upper_bound)]\n",
    "    return df\n",
    "health_df = remove_outliers(health_df)\n",
    "print(\"The number of rows after removing outliers is:\", health_df.shape[0])"
   ]
  },
  {
   "cell_type": "code",
   "execution_count": 52,
   "id": "87fea492",
   "metadata": {},
   "outputs": [
    {
     "data": {
      "image/png": "[encoded data removed]",
      "text/plain": [
       "<Figure size 1000x600 with 1 Axes>"
      ]
     },
     "metadata": {},
     "output_type": "display_data"
    }
   ],
   "source": [
    "#box plot of the resampled data\n",
    "plt.figure(figsize=(10, 6))\n",
    "sns.boxplot(data=health_df, orient='v')\n",
    "plt.title('Boxplot of All Features after SMOTE')\n",
    "plt.xlabel('Independent features')\n",
    "plt.ylabel('Values')\n",
    "plt.show()"
   ]
  },
  {
   "cell_type": "code",
   "execution_count": 53,
   "id": "c4ee21f4",
   "metadata": {},
   "outputs": [
    {
     "name": "stderr",
     "output_type": "stream",
     "text": [
      "/Users/kaushikchakraborty/Desktop/github/ePGD-IITB/epgd/lib/python3.9/site-packages/sklearn/base.py:474: FutureWarning: `BaseEstimator._validate_data` is deprecated in 1.6 and will be removed in 1.7. Use `sklearn.utils.validation.validate_data` instead. This function becomes public and is part of the scikit-learn developer API.\n",
      "  warnings.warn(\n"
     ]
    }
   ],
   "source": [
    "####Using SMOTE to balance the dataset\n",
    "from imblearn.over_sampling import SMOTE\n",
    "X_features = health_df.iloc[:,:-1]\n",
    "y_labels = health_df.iloc[:,-1]\n",
    "smote = SMOTE(random_state=42)\n",
    "X_resampled, y_resampled = smote.fit_resample(X_features, y_labels)\n"
   ]
  },
  {
   "cell_type": "code",
   "execution_count": 54,
   "id": "6cb508cc",
   "metadata": {},
   "outputs": [
    {
     "name": "stdout",
     "output_type": "stream",
     "text": [
      "The number of rows after SMOTE is: 904\n"
     ]
    }
   ],
   "source": [
    "X_resampled = pd.DataFrame(X_resampled, columns=X_features.columns)\n",
    "y_resampled = pd.Series(y_resampled, name='is_diabetic')\n",
    "print(\"The number of rows after SMOTE is:\", X_resampled.shape[0])\n"
   ]
  },
  {
   "cell_type": "code",
   "execution_count": 55,
   "id": "ca7e0b25",
   "metadata": {},
   "outputs": [
    {
     "data": {
      "image/png": "[encoded data removed]",
      "text/plain": [
       "<Figure size 1000x600 with 1 Axes>"
      ]
     },
     "metadata": {},
     "output_type": "display_data"
    }
   ],
   "source": [
    "#box plot of the resampled data\n",
    "plt.figure(figsize=(10, 6))\n",
    "sns.boxplot(data=X_resampled, orient='v')\n",
    "plt.title('Boxplot of All Features after SMOTE')\n",
    "plt.xlabel('Independent features')\n",
    "plt.ylabel('Values')\n",
    "plt.show()"
   ]
  },
  {
   "cell_type": "markdown",
   "id": "e70c9360",
   "metadata": {},
   "source": [
    "### In the above step, we have removed outliers which are beyond a extreme threshold (IQR+2*IQR). This is done because outliers might be helpful given that this dataset is specific to health domain."
   ]
  },
  {
   "cell_type": "code",
   "execution_count": 60,
   "id": "7123e3b0",
   "metadata": {},
   "outputs": [
    {
     "name": "stdout",
     "output_type": "stream",
     "text": [
      "The value counts for the target variable are:\n",
      "              count\n",
      "is_diabetic       \n",
      "1              452\n",
      "0              452\n"
     ]
    },
    {
     "name": "stderr",
     "output_type": "stream",
     "text": [
      "/var/folders/bp/_p8p3d4j4qq20ccmqb6cjs2w0000gn/T/ipykernel_85465/3386666006.py:4: FutureWarning: \n",
      "\n",
      "Passing `palette` without assigning `hue` is deprecated and will be removed in v0.14.0. Assign the `x` variable to `hue` and set `legend=False` for the same effect.\n",
      "\n",
      "  sns.countplot(x='is_diabetic', data=pd.DataFrame(y_resampled), palette='Set2')\n"
     ]
    },
    {
     "data": {
      "image/png": "[encoded data removed]",
      "text/plain": [
       "<Figure size 1000x600 with 1 Axes>"
      ]
     },
     "metadata": {},
     "output_type": "display_data"
    }
   ],
   "source": [
    "##Visualizing the distribution of the target variable after SMOTE through a bar plot\n",
    "print(\"The value counts for the target variable are:\\n\", pd.DataFrame(y_resampled.value_counts()))\n",
    "plt.figure(figsize=(10, 6))\n",
    "sns.countplot(x='is_diabetic', data=pd.DataFrame(y_resampled), palette='Set2')\n",
    "plt.title('Count of Target Variable')\n",
    "plt.xlabel('is_diabetic')\n",
    "plt.ylabel('Count')\n",
    "plt.show()\n"
   ]
  },
  {
   "cell_type": "markdown",
   "id": "2f3d1818",
   "metadata": {},
   "source": [
    "### From the above plot, we can see that the class imbalance problem is resolved now using the SMOTE technique."
   ]
  },
  {
   "cell_type": "markdown",
   "id": "007c3aa2",
   "metadata": {},
   "source": []
  },
  {
   "cell_type": "code",
   "execution_count": null,
   "id": "393b1190",
   "metadata": {},
   "outputs": [],
   "source": []
  },
  {
   "cell_type": "code",
   "execution_count": 62,
   "id": "b57990c5",
   "metadata": {},
   "outputs": [],
   "source": [
    "##Splitting the resampled dataset into train and test sets with 80-20 random split\n",
    "from sklearn.model_selection import train_test_split\n",
    "X_train, X_test, y_train, y_test = train_test_split(X_resampled, y_resampled, test_size=0.2, random_state=42)"
   ]
  },
  {
   "cell_type": "code",
   "execution_count": 85,
   "id": "c0058369",
   "metadata": {},
   "outputs": [
    {
     "data": {
      "text/html": [
       "<style>#sk-container-id-12 {\n",
       "  /* Definition of color scheme common for light and dark mode */\n",
       "  --sklearn-color-text: #000;\n",
       "  --sklearn-color-text-muted: #666;\n",
       "  --sklearn-color-line: gray;\n",
       "  /* Definition of color scheme for unfitted estimators */\n",
       "  --sklearn-color-unfitted-level-0: #fff5e6;\n",
       "  --sklearn-color-unfitted-level-1: #f6e4d2;\n",
       "  --sklearn-color-unfitted-level-2: #ffe0b3;\n",
       "  --sklearn-color-unfitted-level-3: chocolate;\n",
       "  /* Definition of color scheme for fitted estimators */\n",
       "  --sklearn-color-fitted-level-0: #f0f8ff;\n",
       "  --sklearn-color-fitted-level-1: #d4ebff;\n",
       "  --sklearn-color-fitted-level-2: #b3dbfd;\n",
       "  --sklearn-color-fitted-level-3: cornflowerblue;\n",
       "\n",
       "  /* Specific color for light theme */\n",
       "  --sklearn-color-text-on-default-background: var(--sg-text-color, var(--theme-code-foreground, var(--jp-content-font-color1, black)));\n",
       "  --sklearn-color-background: var(--sg-background-color, var(--theme-background, var(--jp-layout-color0, white)));\n",
       "  --sklearn-color-border-box: var(--sg-text-color, var(--theme-code-foreground, var(--jp-content-font-color1, black)));\n",
       "  --sklearn-color-icon: #696969;\n",
       "\n",
       "  @media (prefers-color-scheme: dark) {\n",
       "    /* Redefinition of color scheme for dark theme */\n",
       "    --sklearn-color-text-on-default-background: var(--sg-text-color, var(--theme-code-foreground, var(--jp-content-font-color1, white)));\n",
       "    --sklearn-color-background: var(--sg-background-color, var(--theme-background, var(--jp-layout-color0, #111)));\n",
       "    --sklearn-color-border-box: var(--sg-text-color, var(--theme-code-foreground, var(--jp-content-font-color1, white)));\n",
       "    --sklearn-color-icon: #878787;\n",
       "  }\n",
       "}\n",
       "\n",
       "#sk-container-id-12 {\n",
       "  color: var(--sklearn-color-text);\n",
       "}\n",
       "\n",
       "#sk-container-id-12 pre {\n",
       "  padding: 0;\n",
       "}\n",
       "\n",
       "#sk-container-id-12 input.sk-hidden--visually {\n",
       "  border: 0;\n",
       "  clip: rect(1px 1px 1px 1px);\n",
       "  clip: rect(1px, 1px, 1px, 1px);\n",
       "  height: 1px;\n",
       "  margin: -1px;\n",
       "  overflow: hidden;\n",
       "  padding: 0;\n",
       "  position: absolute;\n",
       "  width: 1px;\n",
       "}\n",
       "\n",
       "#sk-container-id-12 div.sk-dashed-wrapped {\n",
       "  border: 1px dashed var(--sklearn-color-line);\n",
       "  margin: 0 0.4em 0.5em 0.4em;\n",
       "  box-sizing: border-box;\n",
       "  padding-bottom: 0.4em;\n",
       "  background-color: var(--sklearn-color-background);\n",
       "}\n",
       "\n",
       "#sk-container-id-12 div.sk-container {\n",
       "  /* jupyter's `normalize.less` sets `[hidden] { display: none; }`\n",
       "     but bootstrap.min.css set `[hidden] { display: none !important; }`\n",
       "     so we also need the `!important` here to be able to override the\n",
       "     default hidden behavior on the sphinx rendered scikit-learn.org.\n",
       "     See: https://github.com/scikit-learn/scikit-learn/issues/21755 */\n",
       "  display: inline-block !important;\n",
       "  position: relative;\n",
       "}\n",
       "\n",
       "#sk-container-id-12 div.sk-text-repr-fallback {\n",
       "  display: none;\n",
       "}\n",
       "\n",
       "div.sk-parallel-item,\n",
       "div.sk-serial,\n",
       "div.sk-item {\n",
       "  /* draw centered vertical line to link estimators */\n",
       "  background-image: linear-gradient(var(--sklearn-color-text-on-default-background), var(--sklearn-color-text-on-default-background));\n",
       "  background-size: 2px 100%;\n",
       "  background-repeat: no-repeat;\n",
       "  background-position: center center;\n",
       "}\n",
       "\n",
       "/* Parallel-specific style estimator block */\n",
       "\n",
       "#sk-container-id-12 div.sk-parallel-item::after {\n",
       "  content: \"\";\n",
       "  width: 100%;\n",
       "  border-bottom: 2px solid var(--sklearn-color-text-on-default-background);\n",
       "  flex-grow: 1;\n",
       "}\n",
       "\n",
       "#sk-container-id-12 div.sk-parallel {\n",
       "  display: flex;\n",
       "  align-items: stretch;\n",
       "  justify-content: center;\n",
       "  background-color: var(--sklearn-color-background);\n",
       "  position: relative;\n",
       "}\n",
       "\n",
       "#sk-container-id-12 div.sk-parallel-item {\n",
       "  display: flex;\n",
       "  flex-direction: column;\n",
       "}\n",
       "\n",
       "#sk-container-id-12 div.sk-parallel-item:first-child::after {\n",
       "  align-self: flex-end;\n",
       "  width: 50%;\n",
       "}\n",
       "\n",
       "#sk-container-id-12 div.sk-parallel-item:last-child::after {\n",
       "  align-self: flex-start;\n",
       "  width: 50%;\n",
       "}\n",
       "\n",
       "#sk-container-id-12 div.sk-parallel-item:only-child::after {\n",
       "  width: 0;\n",
       "}\n",
       "\n",
       "/* Serial-specific style estimator block */\n",
       "\n",
       "#sk-container-id-12 div.sk-serial {\n",
       "  display: flex;\n",
       "  flex-direction: column;\n",
       "  align-items: center;\n",
       "  background-color: var(--sklearn-color-background);\n",
       "  padding-right: 1em;\n",
       "  padding-left: 1em;\n",
       "}\n",
       "\n",
       "\n",
       "/* Toggleable style: style used for estimator/Pipeline/ColumnTransformer box that is\n",
       "clickable and can be expanded/collapsed.\n",
       "- Pipeline and ColumnTransformer use this feature and define the default style\n",
       "- Estimators will overwrite some part of the style using the `sk-estimator` class\n",
       "*/\n",
       "\n",
       "/* Pipeline and ColumnTransformer style (default) */\n",
       "\n",
       "#sk-container-id-12 div.sk-toggleable {\n",
       "  /* Default theme specific background. It is overwritten whether we have a\n",
       "  specific estimator or a Pipeline/ColumnTransformer */\n",
       "  background-color: var(--sklearn-color-background);\n",
       "}\n",
       "\n",
       "/* Toggleable label */\n",
       "#sk-container-id-12 label.sk-toggleable__label {\n",
       "  cursor: pointer;\n",
       "  display: flex;\n",
       "  width: 100%;\n",
       "  margin-bottom: 0;\n",
       "  padding: 0.5em;\n",
       "  box-sizing: border-box;\n",
       "  text-align: center;\n",
       "  align-items: start;\n",
       "  justify-content: space-between;\n",
       "  gap: 0.5em;\n",
       "}\n",
       "\n",
       "#sk-container-id-12 label.sk-toggleable__label .caption {\n",
       "  font-size: 0.6rem;\n",
       "  font-weight: lighter;\n",
       "  color: var(--sklearn-color-text-muted);\n",
       "}\n",
       "\n",
       "#sk-container-id-12 label.sk-toggleable__label-arrow:before {\n",
       "  /* Arrow on the left of the label */\n",
       "  content: \"▸\";\n",
       "  float: left;\n",
       "  margin-right: 0.25em;\n",
       "  color: var(--sklearn-color-icon);\n",
       "}\n",
       "\n",
       "#sk-container-id-12 label.sk-toggleable__label-arrow:hover:before {\n",
       "  color: var(--sklearn-color-text);\n",
       "}\n",
       "\n",
       "/* Toggleable content - dropdown */\n",
       "\n",
       "#sk-container-id-12 div.sk-toggleable__content {\n",
       "  max-height: 0;\n",
       "  max-width: 0;\n",
       "  overflow: hidden;\n",
       "  text-align: left;\n",
       "  /* unfitted */\n",
       "  background-color: var(--sklearn-color-unfitted-level-0);\n",
       "}\n",
       "\n",
       "#sk-container-id-12 div.sk-toggleable__content.fitted {\n",
       "  /* fitted */\n",
       "  background-color: var(--sklearn-color-fitted-level-0);\n",
       "}\n",
       "\n",
       "#sk-container-id-12 div.sk-toggleable__content pre {\n",
       "  margin: 0.2em;\n",
       "  border-radius: 0.25em;\n",
       "  color: var(--sklearn-color-text);\n",
       "  /* unfitted */\n",
       "  background-color: var(--sklearn-color-unfitted-level-0);\n",
       "}\n",
       "\n",
       "#sk-container-id-12 div.sk-toggleable__content.fitted pre {\n",
       "  /* unfitted */\n",
       "  background-color: var(--sklearn-color-fitted-level-0);\n",
       "}\n",
       "\n",
       "#sk-container-id-12 input.sk-toggleable__control:checked~div.sk-toggleable__content {\n",
       "  /* Expand drop-down */\n",
       "  max-height: 200px;\n",
       "  max-width: 100%;\n",
       "  overflow: auto;\n",
       "}\n",
       "\n",
       "#sk-container-id-12 input.sk-toggleable__control:checked~label.sk-toggleable__label-arrow:before {\n",
       "  content: \"▾\";\n",
       "}\n",
       "\n",
       "/* Pipeline/ColumnTransformer-specific style */\n",
       "\n",
       "#sk-container-id-12 div.sk-label input.sk-toggleable__control:checked~label.sk-toggleable__label {\n",
       "  color: var(--sklearn-color-text);\n",
       "  background-color: var(--sklearn-color-unfitted-level-2);\n",
       "}\n",
       "\n",
       "#sk-container-id-12 div.sk-label.fitted input.sk-toggleable__control:checked~label.sk-toggleable__label {\n",
       "  background-color: var(--sklearn-color-fitted-level-2);\n",
       "}\n",
       "\n",
       "/* Estimator-specific style */\n",
       "\n",
       "/* Colorize estimator box */\n",
       "#sk-container-id-12 div.sk-estimator input.sk-toggleable__control:checked~label.sk-toggleable__label {\n",
       "  /* unfitted */\n",
       "  background-color: var(--sklearn-color-unfitted-level-2);\n",
       "}\n",
       "\n",
       "#sk-container-id-12 div.sk-estimator.fitted input.sk-toggleable__control:checked~label.sk-toggleable__label {\n",
       "  /* fitted */\n",
       "  background-color: var(--sklearn-color-fitted-level-2);\n",
       "}\n",
       "\n",
       "#sk-container-id-12 div.sk-label label.sk-toggleable__label,\n",
       "#sk-container-id-12 div.sk-label label {\n",
       "  /* The background is the default theme color */\n",
       "  color: var(--sklearn-color-text-on-default-background);\n",
       "}\n",
       "\n",
       "/* On hover, darken the color of the background */\n",
       "#sk-container-id-12 div.sk-label:hover label.sk-toggleable__label {\n",
       "  color: var(--sklearn-color-text);\n",
       "  background-color: var(--sklearn-color-unfitted-level-2);\n",
       "}\n",
       "\n",
       "/* Label box, darken color on hover, fitted */\n",
       "#sk-container-id-12 div.sk-label.fitted:hover label.sk-toggleable__label.fitted {\n",
       "  color: var(--sklearn-color-text);\n",
       "  background-color: var(--sklearn-color-fitted-level-2);\n",
       "}\n",
       "\n",
       "/* Estimator label */\n",
       "\n",
       "#sk-container-id-12 div.sk-label label {\n",
       "  font-family: monospace;\n",
       "  font-weight: bold;\n",
       "  display: inline-block;\n",
       "  line-height: 1.2em;\n",
       "}\n",
       "\n",
       "#sk-container-id-12 div.sk-label-container {\n",
       "  text-align: center;\n",
       "}\n",
       "\n",
       "/* Estimator-specific */\n",
       "#sk-container-id-12 div.sk-estimator {\n",
       "  font-family: monospace;\n",
       "  border: 1px dotted var(--sklearn-color-border-box);\n",
       "  border-radius: 0.25em;\n",
       "  box-sizing: border-box;\n",
       "  margin-bottom: 0.5em;\n",
       "  /* unfitted */\n",
       "  background-color: var(--sklearn-color-unfitted-level-0);\n",
       "}\n",
       "\n",
       "#sk-container-id-12 div.sk-estimator.fitted {\n",
       "  /* fitted */\n",
       "  background-color: var(--sklearn-color-fitted-level-0);\n",
       "}\n",
       "\n",
       "/* on hover */\n",
       "#sk-container-id-12 div.sk-estimator:hover {\n",
       "  /* unfitted */\n",
       "  background-color: var(--sklearn-color-unfitted-level-2);\n",
       "}\n",
       "\n",
       "#sk-container-id-12 div.sk-estimator.fitted:hover {\n",
       "  /* fitted */\n",
       "  background-color: var(--sklearn-color-fitted-level-2);\n",
       "}\n",
       "\n",
       "/* Specification for estimator info (e.g. \"i\" and \"?\") */\n",
       "\n",
       "/* Common style for \"i\" and \"?\" */\n",
       "\n",
       ".sk-estimator-doc-link,\n",
       "a:link.sk-estimator-doc-link,\n",
       "a:visited.sk-estimator-doc-link {\n",
       "  float: right;\n",
       "  font-size: smaller;\n",
       "  line-height: 1em;\n",
       "  font-family: monospace;\n",
       "  background-color: var(--sklearn-color-background);\n",
       "  border-radius: 1em;\n",
       "  height: 1em;\n",
       "  width: 1em;\n",
       "  text-decoration: none !important;\n",
       "  margin-left: 0.5em;\n",
       "  text-align: center;\n",
       "  /* unfitted */\n",
       "  border: var(--sklearn-color-unfitted-level-1) 1pt solid;\n",
       "  color: var(--sklearn-color-unfitted-level-1);\n",
       "}\n",
       "\n",
       ".sk-estimator-doc-link.fitted,\n",
       "a:link.sk-estimator-doc-link.fitted,\n",
       "a:visited.sk-estimator-doc-link.fitted {\n",
       "  /* fitted */\n",
       "  border: var(--sklearn-color-fitted-level-1) 1pt solid;\n",
       "  color: var(--sklearn-color-fitted-level-1);\n",
       "}\n",
       "\n",
       "/* On hover */\n",
       "div.sk-estimator:hover .sk-estimator-doc-link:hover,\n",
       ".sk-estimator-doc-link:hover,\n",
       "div.sk-label-container:hover .sk-estimator-doc-link:hover,\n",
       ".sk-estimator-doc-link:hover {\n",
       "  /* unfitted */\n",
       "  background-color: var(--sklearn-color-unfitted-level-3);\n",
       "  color: var(--sklearn-color-background);\n",
       "  text-decoration: none;\n",
       "}\n",
       "\n",
       "div.sk-estimator.fitted:hover .sk-estimator-doc-link.fitted:hover,\n",
       ".sk-estimator-doc-link.fitted:hover,\n",
       "div.sk-label-container:hover .sk-estimator-doc-link.fitted:hover,\n",
       ".sk-estimator-doc-link.fitted:hover {\n",
       "  /* fitted */\n",
       "  background-color: var(--sklearn-color-fitted-level-3);\n",
       "  color: var(--sklearn-color-background);\n",
       "  text-decoration: none;\n",
       "}\n",
       "\n",
       "/* Span, style for the box shown on hovering the info icon */\n",
       ".sk-estimator-doc-link span {\n",
       "  display: none;\n",
       "  z-index: 9999;\n",
       "  position: relative;\n",
       "  font-weight: normal;\n",
       "  right: .2ex;\n",
       "  padding: .5ex;\n",
       "  margin: .5ex;\n",
       "  width: min-content;\n",
       "  min-width: 20ex;\n",
       "  max-width: 50ex;\n",
       "  color: var(--sklearn-color-text);\n",
       "  box-shadow: 2pt 2pt 4pt #999;\n",
       "  /* unfitted */\n",
       "  background: var(--sklearn-color-unfitted-level-0);\n",
       "  border: .5pt solid var(--sklearn-color-unfitted-level-3);\n",
       "}\n",
       "\n",
       ".sk-estimator-doc-link.fitted span {\n",
       "  /* fitted */\n",
       "  background: var(--sklearn-color-fitted-level-0);\n",
       "  border: var(--sklearn-color-fitted-level-3);\n",
       "}\n",
       "\n",
       ".sk-estimator-doc-link:hover span {\n",
       "  display: block;\n",
       "}\n",
       "\n",
       "/* \"?\"-specific style due to the `<a>` HTML tag */\n",
       "\n",
       "#sk-container-id-12 a.estimator_doc_link {\n",
       "  float: right;\n",
       "  font-size: 1rem;\n",
       "  line-height: 1em;\n",
       "  font-family: monospace;\n",
       "  background-color: var(--sklearn-color-background);\n",
       "  border-radius: 1rem;\n",
       "  height: 1rem;\n",
       "  width: 1rem;\n",
       "  text-decoration: none;\n",
       "  /* unfitted */\n",
       "  color: var(--sklearn-color-unfitted-level-1);\n",
       "  border: var(--sklearn-color-unfitted-level-1) 1pt solid;\n",
       "}\n",
       "\n",
       "#sk-container-id-12 a.estimator_doc_link.fitted {\n",
       "  /* fitted */\n",
       "  border: var(--sklearn-color-fitted-level-1) 1pt solid;\n",
       "  color: var(--sklearn-color-fitted-level-1);\n",
       "}\n",
       "\n",
       "/* On hover */\n",
       "#sk-container-id-12 a.estimator_doc_link:hover {\n",
       "  /* unfitted */\n",
       "  background-color: var(--sklearn-color-unfitted-level-3);\n",
       "  color: var(--sklearn-color-background);\n",
       "  text-decoration: none;\n",
       "}\n",
       "\n",
       "#sk-container-id-12 a.estimator_doc_link.fitted:hover {\n",
       "  /* fitted */\n",
       "  background-color: var(--sklearn-color-fitted-level-3);\n",
       "}\n",
       "</style><div id=\"sk-container-id-12\" class=\"sk-top-container\"><div class=\"sk-text-repr-fallback\"><pre>RandomForestClassifier(max_depth=50, max_samples=500, random_state=42)</pre><b>In a Jupyter environment, please rerun this cell to show the HTML representation or trust the notebook. <br />On GitHub, the HTML representation is unable to render, please try loading this page with nbviewer.org.</b></div><div class=\"sk-container\" hidden><div class=\"sk-item\"><div class=\"sk-estimator fitted sk-toggleable\"><input class=\"sk-toggleable__control sk-hidden--visually\" id=\"sk-estimator-id-12\" type=\"checkbox\" checked><label for=\"sk-estimator-id-12\" class=\"sk-toggleable__label fitted sk-toggleable__label-arrow\"><div><div>RandomForestClassifier</div></div><div><a class=\"sk-estimator-doc-link fitted\" rel=\"noreferrer\" target=\"_blank\" href=\"https://scikit-learn.org/1.6/modules/generated/sklearn.ensemble.RandomForestClassifier.html\">?<span>Documentation for RandomForestClassifier</span></a><span class=\"sk-estimator-doc-link fitted\">i<span>Fitted</span></span></div></label><div class=\"sk-toggleable__content fitted\"><pre>RandomForestClassifier(max_depth=50, max_samples=500, random_state=42)</pre></div> </div></div></div></div>"
      ],
      "text/plain": [
       "RandomForestClassifier(max_depth=50, max_samples=500, random_state=42)"
      ]
     },
     "execution_count": 85,
     "metadata": {},
     "output_type": "execute_result"
    }
   ],
   "source": [
    "### Training a random forest based classifier on the resampled dataset, because it is expected to be robust to outliers and noise.\n",
    "\n",
    "from sklearn.ensemble import RandomForestClassifier\n",
    "rf_model = RandomForestClassifier(n_estimators=100, max_depth=50,max_samples=500, random_state=42)\n",
    "rf_model.fit(X_train, y_train)"
   ]
  },
  {
   "cell_type": "code",
   "execution_count": 86,
   "id": "7317ea3a",
   "metadata": {},
   "outputs": [
    {
     "name": "stdout",
     "output_type": "stream",
     "text": [
      "The classification report is:\n",
      "               precision    recall  f1-score   support\n",
      "\n",
      "           0       0.82      0.83      0.82        88\n",
      "           1       0.84      0.83      0.83        93\n",
      "\n",
      "    accuracy                           0.83       181\n",
      "   macro avg       0.83      0.83      0.83       181\n",
      "weighted avg       0.83      0.83      0.83       181\n",
      "\n"
     ]
    }
   ],
   "source": [
    "##Making predictionson the test set\n",
    "y_pred = rf_model.predict(X_test)\n",
    "from sklearn.metrics import classification_report\n",
    "print(\"The classification report is:\\n\", classification_report(y_test, y_pred))"
   ]
  },
  {
   "cell_type": "markdown",
   "id": "5b544b42",
   "metadata": {},
   "source": [
    "## From the classification report, we have the following results:\n",
    "#### - Average accuracy : 0.83\n",
    "#### - Average precision: 0.83\n",
    "#### - Average recall: 0.83\n",
    "#### - Average f1 score: 0.83"
   ]
  },
  {
   "cell_type": "markdown",
   "id": "35785a57",
   "metadata": {},
   "source": [
    "### Based on the metrics on test set, we can say that the clasifier performance is decent accross all metrics. \n",
    "#### - Precision and recall are similar and above 0.8, that implies that false negatives and false positives are well balanced and their instances are low in numbers.\n",
    "#### - Although, it would have been better if the recall was higher than precison (lesser false negatives), given the use case of prediction of a medical ailment."
   ]
  },
  {
   "cell_type": "code",
   "execution_count": null,
   "id": "cff0afe5",
   "metadata": {},
   "outputs": [],
   "source": []
  },
  {
   "cell_type": "markdown",
   "id": "35ae316a",
   "metadata": {},
   "source": [
    "#### Domain knowledge and feature engineering would have helped in preprocessing the features while deciding on what to do with the outliers in few of the features. Proper domain knowledge would have helped in deciding whether to omit all the outliers, whether to transform features having outliers (like using logarithm, or other transformations).\n",
    "\n",
    "#### Also, domain knowledge would have helped in designing features that are better predictors for diabetes, and that would have helped improve the recall of the classification model.\n",
    "\n",
    "#### Other than that, also imputation of missing values rather than ommitting them could be done, if we had the knowledge of each features, because the target variables were not missing!"
   ]
  },
  {
   "cell_type": "markdown",
   "id": "04168f9d",
   "metadata": {},
   "source": []
  }
 ],
 "metadata": {
  "kernelspec": {
   "display_name": "epgd",
   "language": "python",
   "name": "python3"
  },
  "language_info": {
   "codemirror_mode": {
    "name": "ipython",
    "version": 3
   },
   "file_extension": ".py",
   "mimetype": "text/x-python",
   "name": "python",
   "nbconvert_exporter": "python",
   "pygments_lexer": "ipython3",
   "version": "3.9.6"
  }
 },
 "nbformat": 4,
 "nbformat_minor": 5
}
